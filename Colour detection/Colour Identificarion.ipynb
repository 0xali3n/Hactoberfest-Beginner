{
 "cells": [
  {
   "cell_type": "markdown",
   "metadata": {},
   "source": [
    "# Colour Detection Using Python"
   ]
  },
  {
   "cell_type": "code",
   "execution_count": 1,
   "metadata": {},
   "outputs": [],
   "source": [
    "import cv2\n",
    "import pandas as pd"
   ]
  },
  {
   "cell_type": "code",
   "execution_count": 2,
   "metadata": {},
   "outputs": [],
   "source": [
    "img_path = 'colour.jpg'\n",
    "img = cv2.imread(img_path)"
   ]
  },
  {
   "cell_type": "code",
   "execution_count": 3,
   "metadata": {},
   "outputs": [],
   "source": [
    "# declaring global variables (are used later on)\n",
    "clicked = False\n",
    "r = g = b = x_pos = y_pos = 0"
   ]
  },
  {
   "cell_type": "code",
   "execution_count": 4,
   "metadata": {},
   "outputs": [],
   "source": [
    "# Reading csv file with pandas and giving names to each column\n",
    "index = [\"color\", \"color_name\", \"hex\", \"R\", \"G\", \"B\"]\n",
    "csv = pd.read_csv('colors.csv', names=index, header=None)"
   ]
  },
  {
   "cell_type": "code",
   "execution_count": 5,
   "metadata": {},
   "outputs": [],
   "source": [
    "# function to calculate minimum distance from all colors and get the most matching color\n",
    "def get_color_name(R, G, B):\n",
    "    minimum = 10000\n",
    "    for i in range(len(csv)):\n",
    "        d = abs(R - int(csv.loc[i, \"R\"])) + abs(G - int(csv.loc[i, \"G\"])) + abs(B - int(csv.loc[i, \"B\"]))\n",
    "        if d <= minimum:\n",
    "            minimum = d\n",
    "            cname = csv.loc[i, \"color_name\"]\n",
    "    return cname"
   ]
  },
  {
   "cell_type": "code",
   "execution_count": 6,
   "metadata": {},
   "outputs": [],
   "source": [
    "# function to get x,y coordinates of mouse double click\n",
    "def draw_function(event, x, y, flags, param):\n",
    "    if event == cv2.EVENT_LBUTTONDOWN:\n",
    "        global b, g, r, x_pos, y_pos, clicked\n",
    "        clicked = True\n",
    "        x_pos = x\n",
    "        y_pos = y\n",
    "        b, g, r = img[y, x]\n",
    "        b = int(b)\n",
    "        g = int(g)\n",
    "        r = int(r)"
   ]
  },
  {
   "cell_type": "code",
   "execution_count": 7,
   "metadata": {},
   "outputs": [],
   "source": [
    "cv2.namedWindow('image')\n",
    "cv2.setMouseCallback('image', draw_function)"
   ]
  },
  {
   "cell_type": "code",
   "execution_count": 8,
   "metadata": {},
   "outputs": [],
   "source": [
    "while True:\n",
    "\n",
    "    cv2.imshow(\"image\", img)\n",
    "    if clicked:\n",
    "\n",
    "        # cv2.rectangle(image, start point, endpoint, color, thickness)-1 fills entire rectangle\n",
    "        cv2.rectangle(img, (20, 20), (750, 60), (b, g, r), -1)\n",
    "\n",
    "        # Creating text string to display( Color name and RGB values )\n",
    "        text = get_color_name(r, g, b) + ' R=' + str(r) + ' G=' + str(g) + ' B=' + str(b)\n",
    "\n",
    "        # cv2.putText(img,text,start,font(0-7),fontScale,color,thickness,lineType )\n",
    "        cv2.putText(img, text, (50, 50), 2, 0.8, (255, 255, 255), 2, cv2.LINE_AA)\n",
    "\n",
    "        # For very light colours we will display text in black colour\n",
    "        if r + g + b >= 600:\n",
    "            cv2.putText(img, text, (50, 50), 2, 0.8, (0, 0, 0), 2, cv2.LINE_AA)\n",
    "\n",
    "        clicked = False\n",
    "\n",
    "    # Break the loop when user hits 'esc' key\n",
    "    if cv2.waitKey(20) & 0xFF == 27:\n",
    "        break\n",
    "\n",
    "cv2.destroyAllWindows()"
   ]
  },
  {
   "cell_type": "code",
   "execution_count": null,
   "metadata": {},
   "outputs": [],
   "source": []
  }
 ],
 "metadata": {
  "kernelspec": {
   "display_name": "Python 3 (ipykernel)",
   "language": "python",
   "name": "python3"
  },
  "language_info": {
   "codemirror_mode": {
    "name": "ipython",
    "version": 3
   },
   "file_extension": ".py",
   "mimetype": "text/x-python",
   "name": "python",
   "nbconvert_exporter": "python",
   "pygments_lexer": "ipython3",
   "version": "3.9.7"
  }
 },
 "nbformat": 4,
 "nbformat_minor": 4
}
