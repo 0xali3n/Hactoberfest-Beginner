{
 "cells": [
  {
   "cell_type": "code",
   "execution_count": 1,
   "metadata": {},
   "outputs": [],
   "source": [
    "from tkinter import *\n",
    "import calendar"
   ]
  },
  {
   "cell_type": "code",
   "execution_count": 2,
   "metadata": {},
   "outputs": [],
   "source": [
    "def ShowCalendar():\n",
    "    master = Tk()\n",
    "    master.config(background='pink')\n",
    "    master.title('Calendar of the year:')\n",
    "    master.geometry(\"550x600\")\n",
    "    year = int(year_field.get())\n",
    "    calender_content = calendar.calendar(year)\n",
    "    CalYear = Label(master,text = calender_content,font= \"Consolas 10 bold\")\n",
    "    CalYear.grid(row=5,column=1,padx=20)\n",
    "    master.mainloop()"
   ]
  },
  {
   "cell_type": "code",
   "execution_count": 3,
   "metadata": {},
   "outputs": [],
   "source": [
    "master1 = Tk()\n",
    "master1.config(background='pink')\n",
    "master1.title('Calendar')\n",
    "master1.geometry(\"200x140\")\n",
    "Cal = Label(master1,text=\"Calendar\",bg ='pink',font=(\"times\", 28, \"bold\"))\n",
    "Year = Label(master1,text=\"Enter the year:\",bg ='pink')\n",
    "year_field=Entry(master1)\n",
    "button=Button(master1, text='Show Calender',fg='Black',bg='Blue',command=ShowCalendar)\n",
    "Exit=Button(master1, text='Exit',fg='Black',bg='Blue')"
   ]
  },
  {
   "cell_type": "code",
   "execution_count": 4,
   "metadata": {},
   "outputs": [],
   "source": [
    "Cal.grid(row=1,column=1)\n",
    "Year.grid(row=2,column=1)\n",
    "year_field.grid(row=3,column=1)\n",
    "button.grid(row=4,column=1)\n",
    "Exit.grid(row=6,column=1)"
   ]
  },
  {
   "cell_type": "code",
   "execution_count": 5,
   "metadata": {},
   "outputs": [],
   "source": [
    "master1.mainloop()"
   ]
  },
  {
   "cell_type": "code",
   "execution_count": null,
   "metadata": {},
   "outputs": [],
   "source": []
  }
 ],
 "metadata": {
  "kernelspec": {
   "display_name": "Python 3",
   "language": "python",
   "name": "python3"
  },
  "language_info": {
   "codemirror_mode": {
    "name": "ipython",
    "version": 3
   },
   "file_extension": ".py",
   "mimetype": "text/x-python",
   "name": "python",
   "nbconvert_exporter": "python",
   "pygments_lexer": "ipython3",
   "version": "3.8.5"
  }
 },
 "nbformat": 4,
 "nbformat_minor": 4
}
